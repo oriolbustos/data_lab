{
 "cells": [
  {
   "cell_type": "markdown",
   "id": "e696b24e",
   "metadata": {},
   "source": [
    "# Project 1: Heart diseases #"
   ]
  },
  {
   "cell_type": "code",
   "execution_count": 3,
   "id": "7454854f",
   "metadata": {},
   "outputs": [
    {
     "name": "stdout",
     "output_type": "stream",
     "text": [
      "  Unnamed: 0  age        sex  Chest pain type    resting blood pressure  \\\n",
      "0  Patient 1         28    1                   2                    130   \n",
      "1  Patient 2         29    1                   2                    120   \n",
      "2  Patient 3         29    1                   2                    140   \n",
      "3  Patient 4         30    0                   1                    170   \n",
      "4  Patient 5         31    0                   2                    100   \n",
      "\n",
      "  serum cholestoral fasting blood sugar Resting EEG maximum heart rate  \\\n",
      "0               132                   0           2                185   \n",
      "1               243                   0           0                160   \n",
      "2                 ?                   0           0                170   \n",
      "3               237                   0           1                170   \n",
      "4               219                   0           1                150   \n",
      "\n",
      "  exercise induced angina  ST depression  slope ST number of major vessels  \\\n",
      "0                       0             0.0        ?                       ?   \n",
      "1                       0             0.0        ?                       ?   \n",
      "2                       0             0.0        ?                       ?   \n",
      "3                       0             0.0        ?                       ?   \n",
      "4                       0             0.0        ?                       ?   \n",
      "\n",
      "  thal    diagnosis of heart disease   \n",
      "0      ?                            0  \n",
      "1      ?                            0  \n",
      "2      ?                            0  \n",
      "3      6                            0  \n",
      "4      ?                            0  \n"
     ]
    }
   ],
   "source": [
    "import pandas as pd\n",
    "df = pd.read_excel('Hungarian_Switzerland.xlsx')\n",
    "print(df.head())"
   ]
  }
 ],
 "metadata": {
  "kernelspec": {
   "display_name": "Python 3 (ipykernel)",
   "language": "python",
   "name": "python3"
  },
  "language_info": {
   "codemirror_mode": {
    "name": "ipython",
    "version": 3
   },
   "file_extension": ".py",
   "mimetype": "text/x-python",
   "name": "python",
   "nbconvert_exporter": "python",
   "pygments_lexer": "ipython3",
   "version": "3.10.9"
  }
 },
 "nbformat": 4,
 "nbformat_minor": 5
}
